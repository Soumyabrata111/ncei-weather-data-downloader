{
 "cells": [
  {
   "cell_type": "code",
   "execution_count": 1,
   "metadata": {},
   "outputs": [],
   "source": [
    "import pandas as pd\n",
    "df = pd.read_csv('CHHATRAPATI SHIVAJI INTERNATIONAL, IN.csv', usecols=['DATE','REPORT_TYPE', 'WND'])"
   ]
  },
  {
   "cell_type": "code",
   "execution_count": 2,
   "metadata": {},
   "outputs": [
    {
     "data": {
      "text/html": [
       "<div>\n",
       "<style scoped>\n",
       "    .dataframe tbody tr th:only-of-type {\n",
       "        vertical-align: middle;\n",
       "    }\n",
       "\n",
       "    .dataframe tbody tr th {\n",
       "        vertical-align: top;\n",
       "    }\n",
       "\n",
       "    .dataframe thead th {\n",
       "        text-align: right;\n",
       "    }\n",
       "</style>\n",
       "<table border=\"1\" class=\"dataframe\">\n",
       "  <thead>\n",
       "    <tr style=\"text-align: right;\">\n",
       "      <th></th>\n",
       "      <th>DATE</th>\n",
       "      <th>REPORT_TYPE</th>\n",
       "      <th>WND</th>\n",
       "    </tr>\n",
       "  </thead>\n",
       "  <tbody>\n",
       "    <tr>\n",
       "      <th>0</th>\n",
       "      <td>2018-01-01T00:00:00</td>\n",
       "      <td>FM-12</td>\n",
       "      <td>999,9,C,0000,1</td>\n",
       "    </tr>\n",
       "    <tr>\n",
       "      <th>1</th>\n",
       "      <td>2018-01-01T00:00:00</td>\n",
       "      <td>FM-15</td>\n",
       "      <td>999,9,C,0000,1</td>\n",
       "    </tr>\n",
       "    <tr>\n",
       "      <th>2</th>\n",
       "      <td>2018-01-01T00:30:00</td>\n",
       "      <td>FM-15</td>\n",
       "      <td>999,9,C,0000,1</td>\n",
       "    </tr>\n",
       "    <tr>\n",
       "      <th>3</th>\n",
       "      <td>2018-01-01T01:00:00</td>\n",
       "      <td>FM-15</td>\n",
       "      <td>999,9,C,0000,1</td>\n",
       "    </tr>\n",
       "    <tr>\n",
       "      <th>4</th>\n",
       "      <td>2018-01-01T01:30:00</td>\n",
       "      <td>FM-15</td>\n",
       "      <td>999,9,C,0000,1</td>\n",
       "    </tr>\n",
       "  </tbody>\n",
       "</table>\n",
       "</div>"
      ],
      "text/plain": [
       "                  DATE REPORT_TYPE             WND\n",
       "0  2018-01-01T00:00:00       FM-12  999,9,C,0000,1\n",
       "1  2018-01-01T00:00:00       FM-15  999,9,C,0000,1\n",
       "2  2018-01-01T00:30:00       FM-15  999,9,C,0000,1\n",
       "3  2018-01-01T01:00:00       FM-15  999,9,C,0000,1\n",
       "4  2018-01-01T01:30:00       FM-15  999,9,C,0000,1"
      ]
     },
     "execution_count": 2,
     "metadata": {},
     "output_type": "execute_result"
    }
   ],
   "source": [
    "df.head()"
   ]
  },
  {
   "cell_type": "code",
   "execution_count": 3,
   "metadata": {},
   "outputs": [
    {
     "data": {
      "text/plain": [
       "Index(['DATE', 'REPORT_TYPE', 'WND'], dtype='object')"
      ]
     },
     "execution_count": 3,
     "metadata": {},
     "output_type": "execute_result"
    }
   ],
   "source": [
    "df.columns"
   ]
  },
  {
   "cell_type": "code",
   "execution_count": 4,
   "metadata": {},
   "outputs": [],
   "source": [
    "df[['Angle', 'Angle_Measurement_Quality', 'Wind_Obs_Character', 'Wind_Speed', 'Wind_Speed_Quality']] = df['WND'].str.split(\",\", expand=True)\n",
    "\n",
    "df = df.astype({'Angle': float, 'Angle_Measurement_Quality': float, 'Wind_Obs_Character': str, 'Wind_Speed': float, 'Wind_Speed_Quality': float})\n",
    "\n",
    "df = df[(df['Angle'] != 999) & (df['Angle_Measurement_Quality'] == 1) & (df['Wind_Obs_Character'] == 'N') & (df['Wind_Speed'] != 9999) & (df['Wind_Speed_Quality'] == 1) & (df['REPORT_TYPE'] == 'FM-15')]\n",
    "\n",
    "df['DATE'] = pd.to_datetime(df['DATE'])\n",
    "df['Year'] = df['DATE'].dt.year\n",
    "df['Month'] = df['DATE'].dt.month\n",
    "df['Day'] = df['DATE'].dt.day\n",
    "df['Hour'] = df['DATE'].dt.hour\n",
    "df['Minutes'] = df['DATE'].dt.minute\n",
    "df['Seconds'] = df['DATE'].dt.second\n",
    "\n",
    "# df = df[['DATE','Year', 'Month', 'Day', 'Hour', 'Minutes', 'Seconds','REPORT_TYPE', 'Wind_Speed', 'Angle']]\n",
    "df = df[['Year', 'Month', 'Day', 'Hour', 'Minutes', 'Seconds','REPORT_TYPE', 'Wind_Speed', 'Angle']]\n",
    "# df = df[['DATE', 'Minutes', 'Seconds', 'REPORT_TYPE', 'Wind_Speed', 'Angle']]\n",
    "df = df[(df['Minutes'] == 00) & (df['Seconds'] == 0)]\n",
    "\n",
    "output_file = f'Modified_CHHATRAPATI SHIVAJI INTERNATIONAL, IN.csv'\n",
    "df.to_csv(output_file, index=False)"
   ]
  },
  {
   "cell_type": "code",
   "execution_count": 5,
   "metadata": {},
   "outputs": [
    {
     "name": "stdout",
     "output_type": "stream",
     "text": [
      "Percentage of missing values in Wind_Speed column: 13.31%\n",
      "Percentage of missing values in Angle column: 13.31%\n"
     ]
    }
   ],
   "source": [
    "import numpy as np\n",
    "df1 = pd.DataFrame(columns=['Year', 'Month', 'Day', 'Hour', 'Minutes', 'Seconds'])\n",
    "\n",
    "# Convert the Date column to datetime format and populate it with hourly timestamps from 2012 to 2022\n",
    "date_range = pd.date_range(start='2018-01-01', end='2022-12-31', freq='H')\n",
    "df1['Date'] = date_range\n",
    "\n",
    "# Populate the Year, Month, Day, Hour, Minutes, and Seconds columns of df1\n",
    "df1['Year'] = df1['Date'].dt.year\n",
    "df1['Month'] = df1['Date'].dt.month\n",
    "df1['Day'] = df1['Date'].dt.day\n",
    "df1['Hour'] = df1['Date'].dt.hour\n",
    "df1['Minutes'] = df1['Date'].dt.minute\n",
    "df1['Seconds'] = df1['Date'].dt.second\n",
    "\n",
    "merged_df = pd.merge(df1, df, on=['Year', 'Month', 'Day', 'Hour', 'Minutes', 'Seconds'], how='outer')\n",
    "merged_df[['REPORT_TYPE', 'Wind_Speed', 'Angle']] = merged_df[['REPORT_TYPE', 'Wind_Speed', 'Angle']].fillna(value=np.nan)\n",
    "\n",
    "wind_speed_missing_pct = merged_df['Wind_Speed'].isna().mean() * 100\n",
    "angle_missing_pct = merged_df['Angle'].isna().mean() * 100\n",
    "\n",
    "print(\"Percentage of missing values in Wind_Speed column: {:.2f}%\".format(wind_speed_missing_pct))\n",
    "print(\"Percentage of missing values in Angle column: {:.2f}%\".format(angle_missing_pct))\n"
   ]
  },
  {
   "cell_type": "code",
   "execution_count": 6,
   "metadata": {},
   "outputs": [],
   "source": [
    "# Save the merged dataframe to a csv file\n",
    "merged_df.to_csv('Merged_Modified_CHHATRAPATI SHIVAJI INTERNATIONAL, IN.csv', index=False)"
   ]
  },
  {
   "cell_type": "code",
   "execution_count": null,
   "metadata": {},
   "outputs": [],
   "source": []
  }
 ],
 "metadata": {
  "kernelspec": {
   "display_name": "tf_gpu",
   "language": "python",
   "name": "python3"
  },
  "language_info": {
   "codemirror_mode": {
    "name": "ipython",
    "version": 3
   },
   "file_extension": ".py",
   "mimetype": "text/x-python",
   "name": "python",
   "nbconvert_exporter": "python",
   "pygments_lexer": "ipython3",
   "version": "3.9.16"
  },
  "orig_nbformat": 4
 },
 "nbformat": 4,
 "nbformat_minor": 2
}
